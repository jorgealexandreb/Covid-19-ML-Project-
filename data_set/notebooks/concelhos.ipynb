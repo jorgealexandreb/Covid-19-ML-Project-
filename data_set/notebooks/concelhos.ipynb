{
 "metadata": {
  "language_info": {
   "codemirror_mode": {
    "name": "ipython",
    "version": 3
   },
   "file_extension": ".py",
   "mimetype": "text/x-python",
   "name": "python",
   "nbconvert_exporter": "python",
   "pygments_lexer": "ipython3",
   "version": "3.8.2-final"
  },
  "orig_nbformat": 2,
  "kernelspec": {
   "name": "Python 3.8.2 64-bit ('venv': venv)",
   "display_name": "Python 3.8.2 64-bit ('venv': venv)",
   "metadata": {
    "interpreter": {
     "hash": "bb05cb34173d5aa59526d7557038b9d2cceedfed1f390424494498c5e327bcb2"
    }
   }
  }
 },
 "nbformat": 4,
 "nbformat_minor": 2,
 "cells": [
  {
   "source": [
    "# Imports"
   ],
   "cell_type": "markdown",
   "metadata": {}
  },
  {
   "cell_type": "code",
   "execution_count": null,
   "metadata": {},
   "outputs": [],
   "source": [
    "%matplotlib inline\n",
    "import matplotlib.pyplot as plt\n",
    "import numpy as np\n",
    "import pandas as pd\n",
    "import geopandas\n",
    "from pathlib import Path"
   ]
  },
  {
   "source": [
    "# Constants"
   ],
   "cell_type": "markdown",
   "metadata": {}
  },
  {
   "cell_type": "code",
   "execution_count": null,
   "metadata": {},
   "outputs": [],
   "source": [
    "DATA_FILEPATH = Path.cwd() / '..' / 'data_concelhos.csv'\n",
    "POPULATION_FILEPATH = Path.cwd() / '..' / 'extra' / 'populacional' / 'PORDATA_Estimativas-a-31-12_concelhos.csv'"
   ]
  },
  {
   "source": [
    "# Reading the data"
   ],
   "cell_type": "markdown",
   "metadata": {}
  },
  {
   "cell_type": "code",
   "execution_count": null,
   "metadata": {},
   "outputs": [],
   "source": [
    "data = pd.read_csv(DATA_FILEPATH, parse_dates=[0], index_col=[0], infer_datetime_format=True)"
   ]
  },
  {
   "source": [
    "# Plotting a chart"
   ],
   "cell_type": "markdown",
   "metadata": {}
  },
  {
   "cell_type": "code",
   "execution_count": null,
   "metadata": {},
   "outputs": [],
   "source": [
    "data[['LISBOA', 'PORTO']].plot(kind='line', title='Cases in Lisboa and Porto', linestyle='--', marker='o', rot=45, fontsize=8)"
   ]
  },
  {
   "source": [
    "# Merge with Population"
   ],
   "cell_type": "markdown",
   "metadata": {}
  },
  {
   "cell_type": "code",
   "execution_count": null,
   "metadata": {},
   "outputs": [],
   "source": [
    "population = pd.read_csv(POPULATION_FILEPATH)\n",
    "\n",
    "# rename to Concelho and upper case values\n",
    "population['Concelho'] = population['Anos'].str.upper()\n",
    "\n",
    "data = pd.read_csv(DATA_FILEPATH)\n",
    "# convert date string to proper date\n",
    "data['data'] = pd.to_datetime(data['data'], dayfirst=True)"
   ]
  },
  {
   "cell_type": "code",
   "execution_count": null,
   "metadata": {},
   "outputs": [],
   "source": [
    "# Only data since it's weekly\n",
    "df = data[data['data'] > '2020-07-12']\n",
    "\n",
    "df = df.melt(id_vars=['data'], var_name='Concelho', value_name='Casos')\n",
    "df = df.merge(population[['Concelho', '2019']], how='left', left_on='Concelho', right_on='Concelho')\n",
    "df.fillna(0, inplace=True)\n",
    "df['Racio'] = round(df['Casos'] * 100*1000 / df['2019'], 1)\n",
    "df = df.pivot_table(values='Racio', index='data', columns='Concelho')\n",
    "\n",
    "df = df.reset_index(level=0)\n",
    "df = df.set_index('data')\n",
    "df = df.diff(2)  # 14 days"
   ]
  },
  {
   "cell_type": "code",
   "execution_count": null,
   "metadata": {},
   "outputs": [],
   "source": [
    "df[['LISBOA', 'PORTO', 'PAÇOS DE FERREIRA']].plot(kind='line', title='Cases in Lisboa, Porto, and Paços de Ferreira, 14 days, per 100k', linestyle='--', marker='o', rot=45, fontsize=8)"
   ]
  },
  {
   "source": [
    "# Maps"
   ],
   "cell_type": "markdown",
   "metadata": {}
  },
  {
   "cell_type": "code",
   "execution_count": null,
   "metadata": {},
   "outputs": [],
   "source": [
    "PATH_MAP = \"../extra/mapas/concelhos/\"\n",
    "df_map = geopandas.read_file(f\"{PATH_MAP}/concelhos.shp\")\n",
    "\n",
    "# Concelho as upper case, for matching\n",
    "df_map['Concelho'] = df_map['NAME_2'].str.upper()\n",
    "\n",
    "df_map['Concelho'][ df_map['Concelho'] == 'PONTE DE SÔR' ] = 'PONTE DE SOR'\n",
    "df_map['Concelho'][ df_map['Concelho'] == 'PRAIA DA VITÓRIA' ] = 'VILA DA PRAIA DA VITÓRIA'\n",
    "df_map['Concelho'][ (df_map['Concelho'] == 'LAGOA') & (df_map['NAME_1'] == 'Faro') ] = 'LAGOA (FARO)'\n",
    "df_map['Concelho'][ (df_map['Concelho'] == 'CALHETA') & (df_map['NAME_1'] == 'Azores') ] = 'CALHETA (AÇORES)'\n",
    "\n",
    "df_map_orig = df_map\n"
   ]
  },
  {
   "cell_type": "code",
   "execution_count": null,
   "metadata": {},
   "outputs": [],
   "source": [
    "# Validate concelhos\n",
    "# TODO: Concelhos missing from map: 2: {'TAVIRA', 'GUIMARÃES'}\n",
    "\n",
    "concelhos1 = list(df[-1:].melt(id_vars=[])['Concelho'])\n",
    "concelhos2 = list(df_map['Concelho'])\n",
    "common = list(set(concelhos1) & set(concelhos2))\n",
    "\n",
    "diff1 = set(concelhos1).difference(common)\n",
    "if len(diff1):\n",
    "    print(f\"Concelhos missing from map: {len(diff1)}: {diff1}\")\n",
    "\n",
    "diff2 = set(concelhos2).difference(common)\n",
    "if len(diff2):\n",
    "    print(f\"Concelhos missing from data.csv: {len(diff2)}: {diff2}\")\n"
   ]
  },
  {
   "cell_type": "code",
   "execution_count": null,
   "metadata": {},
   "outputs": [],
   "source": [
    "categories = df[-1:].melt(id_vars=[])\n",
    "# split into four categories\n",
    "# 0 = Nan\n",
    "# 1 = 0\n",
    "# 2 = ]0,120[\n",
    "# 3 = [120, 240[\n",
    "# 4 = [240-\n",
    "categories['category'] = 1 + np.ceil(categories.value.div(120))\n",
    "categories['category'] = categories['category'].clip(0,4)\n"
   ]
  },
  {
   "cell_type": "code",
   "execution_count": null,
   "metadata": {},
   "outputs": [],
   "source": [
    "# merge map data with concelhos category\n",
    "df_map = df_map_orig.merge(categories[['Concelho', 'category']], how='left', left_on='Concelho', right_on='Concelho')\n",
    "\n",
    "# Skip islands to show only continent\n",
    "df_map = df_map[~df_map.NAME_1.isin(['Azores', 'Madeira'])]\n"
   ]
  },
  {
   "cell_type": "code",
   "execution_count": null,
   "metadata": {},
   "outputs": [],
   "source": [
    "# Finally, let's generate a choropleth map of a GeoDataFrame with Matplotlib.\n",
    "fig, ax = plt.subplots(figsize=(15,6))\n",
    "ax.set_title(f\"Portugal\", loc=\"left\", pad=12.0)\n",
    "ax.axis('off')\n",
    "df_map.plot(\n",
    "    column='category', \n",
    "    cmap='Oranges', \n",
    "    ax=ax,\n",
    "    legend=True,\n",
    "    linewidth=0.5,\n",
    "    edgecolor='0.8'\n",
    ")\n",
    "\n",
    "fig.tight_layout()\n",
    "# plt.savefig('map.png', dpi=300, bbox_inches='tight')\n",
    "plt.show()"
   ]
  },
  {
   "cell_type": "code",
   "execution_count": null,
   "metadata": {},
   "outputs": [],
   "source": []
  }
 ]
}