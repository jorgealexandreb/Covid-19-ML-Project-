{
 "cells": [
  {
   "cell_type": "markdown",
   "metadata": {},
   "source": [
    "## Mapping tutorial with GeoPandas and Matplotlib\n",
    "\n",
    "This tutorial serves to demonstrate how to create a simple choropleth map considering the five regional health administrations of Portugal (North, Center, Lisbon and Tagus Valley, Alentejo and Algarve). \n",
    "\n",
    "To this end, [GeoPandas](https://geopandas.org/) will be used to deal with geospatial data and [Matplotlib](https://matplotlib.org/) for plotting (make sure you have both packages installed, please). In addition, [pandas](https://pandas.pydata.org/) will also be used to manage COVID-19 data.\n",
    "\n",
    "Currently, in addition to the map of mainland Portugal divided into the five regional health administrations in the [shapefile](https://en.wikipedia.org/wiki/Shapefile) format, a similar file with the autonomous regions is also available, as well as a version of each map in the [GeoJSON](https://en.wikipedia.org/wiki/GeoJSON) format. You can replace the file used in this tutorial with any of these files and create new charts! "
   ]
  },
  {
   "cell_type": "code",
   "execution_count": null,
   "metadata": {},
   "outputs": [],
   "source": [
    "import geopandas\n",
    "import matplotlib.pyplot as plt\n",
    "import pandas as pd\n",
    "\n",
    "%matplotlib inline"
   ]
  },
  {
   "cell_type": "code",
   "execution_count": null,
   "metadata": {},
   "outputs": [],
   "source": [
    "PATH_MAP = \"../extra/mapas/portugal_continental/\"\n",
    "PATH_DATA = \"../\""
   ]
  },
  {
   "cell_type": "code",
   "execution_count": null,
   "metadata": {},
   "outputs": [],
   "source": [
    "VARIABLE = \"confirmados\"\n",
    "MAP_NAME = \"Portugal Continental\"\n",
    "\n",
    "NOMENCLATURE = {\n",
    "    MAP_NAME: \"portugal_continental\"\n",
    "}"
   ]
  },
  {
   "cell_type": "code",
   "execution_count": null,
   "metadata": {},
   "outputs": [],
   "source": [
    "# A GeoDataFrame works like a pandas DataFrame.\n",
    "\n",
    "df_map = geopandas.read_file(f\"{PATH_MAP}/{NOMENCLATURE[MAP_NAME]}.shp\")"
   ]
  },
  {
   "cell_type": "code",
   "execution_count": null,
   "metadata": {},
   "outputs": [],
   "source": [
    "df_map.head()"
   ]
  },
  {
   "cell_type": "code",
   "execution_count": null,
   "metadata": {},
   "outputs": [],
   "source": [
    "df_data = pd.read_csv(f\"{PATH_DATA}data.csv\")"
   ]
  },
  {
   "cell_type": "code",
   "execution_count": null,
   "metadata": {},
   "outputs": [],
   "source": [
    "df_data.tail()"
   ]
  },
  {
   "cell_type": "code",
   "execution_count": null,
   "metadata": {},
   "outputs": [],
   "source": [
    "# Let's consider confirmed cases from the most recent date available.\n",
    "\n",
    "df_most_recent_date = df_data.tail(1)"
   ]
  },
  {
   "cell_type": "code",
   "execution_count": null,
   "metadata": {},
   "outputs": [],
   "source": [
    "df_most_recent_date"
   ]
  },
  {
   "cell_type": "code",
   "execution_count": null,
   "metadata": {},
   "outputs": [],
   "source": [
    "confirmed_col = {\n",
    "    \"Alentejo\": df_most_recent_date[\"confirmados_arsalentejo\"].item(),\n",
    "    \"Algarve\": df_most_recent_date[\"confirmados_arsalgarve\"].item(),\n",
    "    \"Centro\": df_most_recent_date[\"confirmados_arscentro\"].item(),\n",
    "    \"Norte\": df_most_recent_date[\"confirmados_arsnorte\"].item(), \n",
    "    \"RLVT\": df_most_recent_date[\"confirmados_arslvt\"].item()\n",
    "}"
   ]
  },
  {
   "cell_type": "code",
   "execution_count": null,
   "metadata": {},
   "outputs": [],
   "source": [
    "# For each regional health administration, let's add the number of confirmed cases in a new column.\n",
    "\n",
    "df_map[VARIABLE] = df_map[\"CCDR\"].map(confirmed_col)"
   ]
  },
  {
   "cell_type": "code",
   "execution_count": null,
   "metadata": {},
   "outputs": [],
   "source": [
    "# Finally, let's generate a choropleth map of a GeoDataFrame with Matplotlib.\n",
    "\n",
    "fig, ax = plt.subplots(figsize=(15,6))\n",
    "\n",
    "ax.set_title(f\"Casos Confirmados em {MAP_NAME}: {df_most_recent_date['data'].item()}\", loc=\"left\", pad=12.0)\n",
    "ax.axis('off')\n",
    "\n",
    "df_map.plot(\n",
    "    column=VARIABLE, \n",
    "    cmap='Blues', \n",
    "    ax=ax,\n",
    "    legend=True,\n",
    "    linewidth=0.5,\n",
    "    edgecolor='0.8'\n",
    ")\n",
    "\n",
    "fig.tight_layout()\n",
    "# plt.savefig('map.png', dpi=300, bbox_inches='tight')\n",
    "plt.show()"
   ]
  },
  {
   "cell_type": "code",
   "execution_count": null,
   "metadata": {},
   "outputs": [],
   "source": []
  }
 ],
 "metadata": {
  "kernelspec": {
   "display_name": "Python 3",
   "language": "python",
   "name": "python3"
  },
  "language_info": {
   "codemirror_mode": {
    "name": "ipython",
    "version": 3
   },
   "file_extension": ".py",
   "mimetype": "text/x-python",
   "name": "python",
   "nbconvert_exporter": "python",
   "pygments_lexer": "ipython3",
   "version": "3.8.2-final"
  }
 },
 "nbformat": 4,
 "nbformat_minor": 4
}