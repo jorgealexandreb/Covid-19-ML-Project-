{
 "metadata": {
  "language_info": {
   "codemirror_mode": {
    "name": "ipython",
    "version": 3
   },
   "file_extension": ".py",
   "mimetype": "text/x-python",
   "name": "python",
   "nbconvert_exporter": "python",
   "pygments_lexer": "ipython3",
   "version": "3.8.2-final"
  },
  "orig_nbformat": 2,
  "kernelspec": {
   "name": "Python 3.8.2 64-bit ('venv': venv)",
   "display_name": "Python 3.8.2 64-bit ('venv': venv)",
   "metadata": {
    "interpreter": {
     "hash": "bb05cb34173d5aa59526d7557038b9d2cceedfed1f390424494498c5e327bcb2"
    }
   }
  }
 },
 "nbformat": 4,
 "nbformat_minor": 2,
 "cells": [
  {
   "cell_type": "code",
   "execution_count": null,
   "metadata": {},
   "outputs": [],
   "source": [
    "from pathlib import Path\n",
    "import pandas as pd"
   ]
  },
  {
   "cell_type": "code",
   "execution_count": null,
   "metadata": {},
   "outputs": [],
   "source": [
    "DATA_FILEPATH = Path.cwd() / '..' / 'data.csv'\n",
    "data = pd.read_csv(DATA_FILEPATH)"
   ]
  },
  {
   "cell_type": "code",
   "execution_count": null,
   "metadata": {},
   "outputs": [],
   "source": [
    "# Verify \"ativos\" is 'confirmados' minus 'recuperados' minus 'obitos'\n",
    "df = data.copy()\n",
    "\n",
    "# column 'calc' becomes 'confirmados' minus 'obitos' minus 'recuperados'\n",
    "data['calc'] = data['confirmados'] - data['recuperados'] - data['obitos']\n",
    "# NaN means we don't know the number. Let's make those '0' to simplify here\n",
    "data.fillna(0, inplace=True)\n",
    "\n",
    "# column 'diff' becomes the difference betwen calc and ativos\n",
    "data['diff'] = data['calc'] - data['ativos']\n",
    "\n",
    "# filter by values where diff != 0\n",
    "fail = data[data['diff'] != 0]\n",
    "fail = fail[['data', 'diff', 'calc', 'ativos', 'confirmados', 'obitos', 'recuperados']]\n",
    "if len(fail):\n",
    "    print(fail)"
   ]
  },
  {
   "cell_type": "code",
   "execution_count": null,
   "metadata": {},
   "outputs": [],
   "source": [
    "# Verify \"ativos\" = \"confirmados\" minus \"recuperados\" minus \"obitos\" as well as\n",
    "# \"ativos_novos\" = \"confirmados_novos\" minus \"recuperados_novos\" minus \"obitos_novos\"\n",
    "df = data.copy()\n",
    "# unknowns are zero\n",
    "df.fillna(0, inplace=True)\n",
    "\n",
    "# focus on the four values\n",
    "df = df.loc[:, ['data', 'confirmados', 'recuperados', 'obitos', 'ativos']]\n",
    "# add four \"*_novos\"\n",
    "df['confirmados_novos'] = df['confirmados'].diff(1)\n",
    "df['recuperados_novos'] = df['recuperados'].diff(1)\n",
    "df['obitos_novos'] = df['obitos'].diff(1)\n",
    "df['ativos_novos'] = df['ativos'].diff(1)\n",
    "# remove first row (NaN because there's no previous day)\n",
    "df = df[1:]\n",
    "\n",
    "df['ativos_calc'] = df['confirmados'] - df['recuperados'] - df['obitos']\n",
    "df['ativos_novos_calc'] = df['confirmados_novos'] - df['recuperados_novos'] - df['obitos_novos']\n",
    "df['diff'] = df['ativos_calc'] - df['ativos'] + df['ativos_novos_calc'] - df['ativos_novos']\n",
    "\n",
    "# filter by values where diff != 0\n",
    "fail = df[df['diff'] != 0]\n",
    "fail = fail[['data', 'diff', 'ativos_calc', 'ativos', 'ativos_novos_calc', 'ativos_novos']]\n",
    "if len(fail):\n",
    "    print(fail)\n",
    "\n",
    "df['confirmados_calc'] = df['recuperados'] + df['obitos'] + df['ativos']\n",
    "df['confirmados_novos_calc'] = df['recuperados_novos'] + df['obitos_novos'] + df['ativos_novos']\n",
    "df['diff'] = df['confirmados_calc'] - df['confirmados'] + df['confirmados_novos_calc'] - df['confirmados_novos']\n",
    "\n",
    "# filter by values where diff != 0\n",
    "fail = df[df['diff'] != 0]\n",
    "fail = fail[['data', 'diff', 'confirmados_calc', 'confirmados', 'confirmados_novos_calc', 'confirmados_novos']]\n",
    "if len(fail):\n",
    "    print(fail)\n"
   ]
  },
  {
   "cell_type": "code",
   "execution_count": null,
   "metadata": {},
   "outputs": [],
   "source": [
    "# Verify \"confirmados_novos\" is \"confirmados\" minus previous day\n",
    "df = data.copy()\n",
    "\n",
    "# column 'calc' becomes the difference between 'confirmados' from the current row and the previous row\n",
    "df['calc'] = df['confirmados'].diff(1)\n",
    "# first row will be NaN because there's no previous row\n",
    "df.loc[[0], ['calc']] = 0\n",
    "\n",
    "# column 'diff' becomes the difference betwen calc and confirmados_novos\n",
    "df['diff'] = df['calc'] - df['confirmados_novos']\n",
    "\n",
    "# filter by values where diff != 0\n",
    "fail = df[df['diff'] != 0]\n",
    "fail = fail[['data', 'diff', 'calc', 'confirmados_novos', 'confirmados']]\n",
    "if len(fail):\n",
    "    print(fail)\n"
   ]
  },
  {
   "cell_type": "code",
   "execution_count": null,
   "metadata": {},
   "outputs": [],
   "source": [
    "# Verify \"confirmados\" is the sum of all regions Portugal, including \"estrangeiros\"\n",
    "df = data.copy()\n",
    "# allow \"estrangeiro\" to be unknown\n",
    "df.confirmados_estrangeiro.fillna(0, inplace=True)\n",
    "\n",
    "df['calc'] = df['confirmados_arsnorte'] + df['confirmados_arscentro'] + df['confirmados_arslvt'] + df['confirmados_arsalentejo'] + df['confirmados_arsalgarve'] + df['confirmados_acores'] + df['confirmados_madeira'] + df['confirmados_estrangeiro']\n",
    "\n",
    "df['diff'] = df['calc'] - df['confirmados']\n",
    "\n",
    "fail = df[df['diff'] != 0]\n",
    "fail = fail[['data', 'diff', 'calc', 'confirmados', 'confirmados_arsnorte', 'confirmados_arscentro', 'confirmados_arslvt', 'confirmados_arsalentejo', 'confirmados_arsalgarve', 'confirmados_acores', 'confirmados_madeira', 'confirmados_estrangeiro']]\n",
    "if len(fail):\n",
    "    # 16-03-2020 (-1) and #20-03-2020 (-3)\n",
    "    print(fail)\n"
   ]
  },
  {
   "cell_type": "code",
   "execution_count": null,
   "metadata": {},
   "outputs": [],
   "source": [
    "# Verify \"confirmados\" is the sum of \"f\" and \"m\"\n",
    "df = data.copy()\n",
    "\n",
    "df['calc'] = df['confirmados_f'] + df['confirmados_m']\n",
    "\n",
    "df['diff'] = df['calc'] - df['confirmados']\n",
    "\n",
    "fail = df[df['diff'] != 0]\n",
    "# ignore initial rows where _f and _m where unknown\n",
    "fail = fail[ df.confirmados_f.notnull() & df.confirmados_m.notnull() ]\n",
    "fail = fail[['data', 'diff', 'calc', 'confirmados', 'confirmados_f', 'confirmados_m']]\n",
    "if len(fail):\n",
    "    # 27-03-2020 (-4), 03-05-2020 (-81), and 27-08-2020 (+2)\n",
    "    print(fail)\n"
   ]
  },
  {
   "cell_type": "code",
   "execution_count": null,
   "metadata": {},
   "outputs": [],
   "source": [
    "# Verify \"confirmados\" is the sum of all ages\n",
    "# TODO the difference is the unknowns, which are not being populated?\n",
    "df = data.copy()\n",
    "# allow \"desconhecidos\" to be unknown\n",
    "df.confirmados_desconhecidos_f.fillna(0, inplace=True)\n",
    "df.confirmados_desconhecidos_m.fillna(0, inplace=True)\n",
    "\n",
    "df['calc'] = df['confirmados_0_9_f'] + df['confirmados_0_9_m'] + df['confirmados_10_19_f'] + df['confirmados_10_19_m'] + df['confirmados_20_29_f'] + df['confirmados_20_29_m'] + df['confirmados_30_39_f'] + df['confirmados_30_39_m'] + df['confirmados_40_49_f'] + df['confirmados_40_49_m'] + df['confirmados_50_59_f'] + df['confirmados_50_59_m'] + df['confirmados_60_69_f'] + df['confirmados_60_69_m'] + df['confirmados_70_79_f'] + df['confirmados_70_79_m'] + df['confirmados_80_plus_f'] + df['confirmados_80_plus_m'] + df['confirmados_desconhecidos_m'] + df['confirmados_desconhecidos_f']\n",
    "\n",
    "df['diff'] = df['calc'] - df['confirmados']\n",
    "\n",
    "fail = df[df['diff'] != 0]\n",
    "fail = fail[ df.confirmados_f.notnull() & df.confirmados_m.notnull() ]\n",
    "fail = fail[['data', 'diff', 'calc', 'confirmados', 'confirmados_0_9_f', 'confirmados_0_9_m', 'confirmados_10_19_f', 'confirmados_10_19_m', 'confirmados_20_29_f', 'confirmados_20_29_m', 'confirmados_30_39_f', 'confirmados_30_39_m', 'confirmados_40_49_f', 'confirmados_40_49_m', 'confirmados_50_59_f', 'confirmados_50_59_m', 'confirmados_60_69_f', 'confirmados_60_69_m', 'confirmados_70_79_f', 'confirmados_70_79_m', 'confirmados_80_plus_f', 'confirmados_80_plus_m', 'confirmados_desconhecidos_m', 'confirmados_desconhecidos_f']]\n",
    "#if len(fail):\n",
    "#    print(fail)\n",
    "fail\n"
   ]
  }
 ]
}