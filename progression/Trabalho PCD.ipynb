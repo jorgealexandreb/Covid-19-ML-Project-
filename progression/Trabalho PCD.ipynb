{
 "cells": [
  {
   "cell_type": "code",
   "execution_count": 131,
   "metadata": {},
   "outputs": [],
   "source": [
    "import matplotlib.pyplot as plt\n",
    "import matplotlib.colors as mcolors\n",
    "import math\n",
    "import time\n",
    "import pandas as pd\n",
    "import numpy as np\n",
    "import seaborn as sn\n",
    "from sklearn.impute import SimpleImputer\n",
    "from sklearn.preprocessing import StandardScaler\n",
    "from sklearn.linear_model import LinearRegression\n",
    "from sklearn import datasets, linear_model\n",
    "from sklearn.metrics import mean_squared_error, r2_score\n",
    "from sklearn.cluster import KMeans\n",
    "from sklearn import metrics\n",
    "from sklearn.neighbors import KNeighborsClassifier\n",
    "from sklearn.model_selection import train_test_split\n",
    "from sklearn.neighbors import KNeighborsClassifier"
   ]
  },
  {
   "cell_type": "code",
   "execution_count": 3,
   "metadata": {},
   "outputs": [],
   "source": [
    "df = pd.read_csv('https://raw.githubusercontent.com/dssg-pt/covid19pt-data/master/data.csv')"
   ]
  },
  {
   "cell_type": "code",
   "execution_count": 4,
   "metadata": {},
   "outputs": [],
   "source": [
    "df1 = pd.read_csv('https://raw.githubusercontent.com/dssg-pt/covid19pt-data/master/data_concelhos.csv')"
   ]
  },
  {
   "cell_type": "code",
   "execution_count": 5,
   "metadata": {},
   "outputs": [],
   "source": [
    "df = df.fillna(0)\n",
    "df1 = df1.fillna(0)"
   ]
  },
  {
   "cell_type": "code",
   "execution_count": 6,
   "metadata": {},
   "outputs": [],
   "source": [
    "df = pd.DataFrame([df['data'], df['confirmados'], df['recuperados'], df['obitos'], df['suspeitos'], df['ativos']])"
   ]
  },
  {
   "cell_type": "code",
   "execution_count": 7,
   "metadata": {},
   "outputs": [],
   "source": [
    "df = df.T"
   ]
  },
  {
   "cell_type": "code",
   "execution_count": 72,
   "metadata": {},
   "outputs": [
    {
     "data": {
      "text/html": [
       "<div>\n",
       "<style scoped>\n",
       "    .dataframe tbody tr th:only-of-type {\n",
       "        vertical-align: middle;\n",
       "    }\n",
       "\n",
       "    .dataframe tbody tr th {\n",
       "        vertical-align: top;\n",
       "    }\n",
       "\n",
       "    .dataframe thead th {\n",
       "        text-align: right;\n",
       "    }\n",
       "</style>\n",
       "<table border=\"1\" class=\"dataframe\">\n",
       "  <thead>\n",
       "    <tr style=\"text-align: right;\">\n",
       "      <th></th>\n",
       "      <th>data</th>\n",
       "      <th>confirmados</th>\n",
       "      <th>recuperados</th>\n",
       "      <th>obitos</th>\n",
       "      <th>suspeitos</th>\n",
       "      <th>ativos</th>\n",
       "    </tr>\n",
       "  </thead>\n",
       "  <tbody>\n",
       "    <tr>\n",
       "      <th>0</th>\n",
       "      <td>26-02-2020</td>\n",
       "      <td>0</td>\n",
       "      <td>0</td>\n",
       "      <td>0</td>\n",
       "      <td>25</td>\n",
       "      <td>0</td>\n",
       "    </tr>\n",
       "    <tr>\n",
       "      <th>1</th>\n",
       "      <td>27-02-2020</td>\n",
       "      <td>0</td>\n",
       "      <td>0</td>\n",
       "      <td>0</td>\n",
       "      <td>51</td>\n",
       "      <td>0</td>\n",
       "    </tr>\n",
       "    <tr>\n",
       "      <th>2</th>\n",
       "      <td>28-02-2020</td>\n",
       "      <td>0</td>\n",
       "      <td>0</td>\n",
       "      <td>0</td>\n",
       "      <td>59</td>\n",
       "      <td>0</td>\n",
       "    </tr>\n",
       "    <tr>\n",
       "      <th>3</th>\n",
       "      <td>29-02-2020</td>\n",
       "      <td>0</td>\n",
       "      <td>0</td>\n",
       "      <td>0</td>\n",
       "      <td>70</td>\n",
       "      <td>0</td>\n",
       "    </tr>\n",
       "    <tr>\n",
       "      <th>4</th>\n",
       "      <td>01-03-2020</td>\n",
       "      <td>0</td>\n",
       "      <td>0</td>\n",
       "      <td>0</td>\n",
       "      <td>85</td>\n",
       "      <td>0</td>\n",
       "    </tr>\n",
       "    <tr>\n",
       "      <th>...</th>\n",
       "      <td>...</td>\n",
       "      <td>...</td>\n",
       "      <td>...</td>\n",
       "      <td>...</td>\n",
       "      <td>...</td>\n",
       "      <td>...</td>\n",
       "    </tr>\n",
       "    <tr>\n",
       "      <th>268</th>\n",
       "      <td>20-11-2020</td>\n",
       "      <td>249498</td>\n",
       "      <td>163000</td>\n",
       "      <td>3762</td>\n",
       "      <td>0</td>\n",
       "      <td>82736</td>\n",
       "    </tr>\n",
       "    <tr>\n",
       "      <th>269</th>\n",
       "      <td>21-11-2020</td>\n",
       "      <td>255970</td>\n",
       "      <td>169379</td>\n",
       "      <td>3824</td>\n",
       "      <td>0</td>\n",
       "      <td>82767</td>\n",
       "    </tr>\n",
       "    <tr>\n",
       "      <th>270</th>\n",
       "      <td>22-11-2020</td>\n",
       "      <td>260758</td>\n",
       "      <td>172919</td>\n",
       "      <td>3897</td>\n",
       "      <td>0</td>\n",
       "      <td>83942</td>\n",
       "    </tr>\n",
       "    <tr>\n",
       "      <th>271</th>\n",
       "      <td>23-11-2020</td>\n",
       "      <td>264802</td>\n",
       "      <td>176827</td>\n",
       "      <td>3971</td>\n",
       "      <td>0</td>\n",
       "      <td>84004</td>\n",
       "    </tr>\n",
       "    <tr>\n",
       "      <th>272</th>\n",
       "      <td>24-11-2020</td>\n",
       "      <td>268721</td>\n",
       "      <td>184233</td>\n",
       "      <td>4056</td>\n",
       "      <td>0</td>\n",
       "      <td>80432</td>\n",
       "    </tr>\n",
       "  </tbody>\n",
       "</table>\n",
       "<p>273 rows × 6 columns</p>\n",
       "</div>"
      ],
      "text/plain": [
       "           data confirmados  recuperados  obitos suspeitos ativos\n",
       "0    26-02-2020           0            0       0        25      0\n",
       "1    27-02-2020           0            0       0        51      0\n",
       "2    28-02-2020           0            0       0        59      0\n",
       "3    29-02-2020           0            0       0        70      0\n",
       "4    01-03-2020           0            0       0        85      0\n",
       "..          ...         ...          ...     ...       ...    ...\n",
       "268  20-11-2020      249498       163000    3762         0  82736\n",
       "269  21-11-2020      255970       169379    3824         0  82767\n",
       "270  22-11-2020      260758       172919    3897         0  83942\n",
       "271  23-11-2020      264802       176827    3971         0  84004\n",
       "272  24-11-2020      268721       184233    4056         0  80432\n",
       "\n",
       "[273 rows x 6 columns]"
      ]
     },
     "execution_count": 72,
     "metadata": {},
     "output_type": "execute_result"
    }
   ],
   "source": [
    "df.head(273)"
   ]
  },
  {
   "cell_type": "code",
   "execution_count": 9,
   "metadata": {},
   "outputs": [],
   "source": [
    "df1 =pd.DataFrame([df1['data'],df1['PÓVOA DE VARZIM'],df1['VILA DO CONDE'],df1['MATOSINHOS'],df1['PORTO'],df1['VILA NOVA DE GAIA'], df1['GONDOMAR'],df1['MAIA'],df1['TROFA'],df1['SANTO TIRSO'],df1['VALONGO'],df1['PAÇOS DE FERREIRA'],df1['PAREDES'],df1['LOUSADA'],df1['PENAFIEL'],df1['FELGUEIRAS'],df1['AMARANTE'], df1['MARCO DE CANAVESES'],df1['BAIÃO']])"
   ]
  },
  {
   "cell_type": "code",
   "execution_count": 10,
   "metadata": {},
   "outputs": [],
   "source": [
    "df1=df1.T"
   ]
  },
  {
   "cell_type": "code",
   "execution_count": 11,
   "metadata": {},
   "outputs": [],
   "source": [
    "cols = df.keys()\n",
    "cols1 = df1.keys()"
   ]
  },
  {
   "cell_type": "code",
   "execution_count": 73,
   "metadata": {},
   "outputs": [
    {
     "data": {
      "text/html": [
       "<div>\n",
       "<style scoped>\n",
       "    .dataframe tbody tr th:only-of-type {\n",
       "        vertical-align: middle;\n",
       "    }\n",
       "\n",
       "    .dataframe tbody tr th {\n",
       "        vertical-align: top;\n",
       "    }\n",
       "\n",
       "    .dataframe thead th {\n",
       "        text-align: right;\n",
       "    }\n",
       "</style>\n",
       "<table border=\"1\" class=\"dataframe\">\n",
       "  <thead>\n",
       "    <tr style=\"text-align: right;\">\n",
       "      <th></th>\n",
       "      <th>data</th>\n",
       "      <th>PÓVOA DE VARZIM</th>\n",
       "      <th>VILA DO CONDE</th>\n",
       "      <th>MATOSINHOS</th>\n",
       "      <th>PORTO</th>\n",
       "      <th>VILA NOVA DE GAIA</th>\n",
       "      <th>GONDOMAR</th>\n",
       "      <th>MAIA</th>\n",
       "      <th>TROFA</th>\n",
       "      <th>SANTO TIRSO</th>\n",
       "      <th>VALONGO</th>\n",
       "      <th>PAÇOS DE FERREIRA</th>\n",
       "      <th>PAREDES</th>\n",
       "      <th>LOUSADA</th>\n",
       "      <th>PENAFIEL</th>\n",
       "      <th>FELGUEIRAS</th>\n",
       "      <th>AMARANTE</th>\n",
       "      <th>MARCO DE CANAVESES</th>\n",
       "      <th>BAIÃO</th>\n",
       "    </tr>\n",
       "  </thead>\n",
       "  <tbody>\n",
       "    <tr>\n",
       "      <th>0</th>\n",
       "      <td>24-03-2020</td>\n",
       "      <td>0</td>\n",
       "      <td>8</td>\n",
       "      <td>54</td>\n",
       "      <td>126</td>\n",
       "      <td>68</td>\n",
       "      <td>56</td>\n",
       "      <td>104</td>\n",
       "      <td>0</td>\n",
       "      <td>7</td>\n",
       "      <td>65</td>\n",
       "      <td>5</td>\n",
       "      <td>7</td>\n",
       "      <td>29</td>\n",
       "      <td>6</td>\n",
       "      <td>17</td>\n",
       "      <td>0</td>\n",
       "      <td>3</td>\n",
       "      <td>0</td>\n",
       "    </tr>\n",
       "    <tr>\n",
       "      <th>1</th>\n",
       "      <td>25-03-2020</td>\n",
       "      <td>0</td>\n",
       "      <td>8</td>\n",
       "      <td>56</td>\n",
       "      <td>137</td>\n",
       "      <td>83</td>\n",
       "      <td>62</td>\n",
       "      <td>119</td>\n",
       "      <td>0</td>\n",
       "      <td>8</td>\n",
       "      <td>71</td>\n",
       "      <td>10</td>\n",
       "      <td>8</td>\n",
       "      <td>27</td>\n",
       "      <td>7</td>\n",
       "      <td>17</td>\n",
       "      <td>0</td>\n",
       "      <td>4</td>\n",
       "      <td>0</td>\n",
       "    </tr>\n",
       "    <tr>\n",
       "      <th>2</th>\n",
       "      <td>26-03-2020</td>\n",
       "      <td>13</td>\n",
       "      <td>12</td>\n",
       "      <td>81</td>\n",
       "      <td>259</td>\n",
       "      <td>163</td>\n",
       "      <td>114</td>\n",
       "      <td>157</td>\n",
       "      <td>8</td>\n",
       "      <td>13</td>\n",
       "      <td>100</td>\n",
       "      <td>19</td>\n",
       "      <td>16</td>\n",
       "      <td>33</td>\n",
       "      <td>11</td>\n",
       "      <td>24</td>\n",
       "      <td>0</td>\n",
       "      <td>0</td>\n",
       "      <td>0</td>\n",
       "    </tr>\n",
       "    <tr>\n",
       "      <th>3</th>\n",
       "      <td>27-03-2020</td>\n",
       "      <td>15</td>\n",
       "      <td>15</td>\n",
       "      <td>107</td>\n",
       "      <td>317</td>\n",
       "      <td>262</td>\n",
       "      <td>149</td>\n",
       "      <td>171</td>\n",
       "      <td>8</td>\n",
       "      <td>20</td>\n",
       "      <td>108</td>\n",
       "      <td>22</td>\n",
       "      <td>18</td>\n",
       "      <td>38</td>\n",
       "      <td>11</td>\n",
       "      <td>26</td>\n",
       "      <td>3</td>\n",
       "      <td>0</td>\n",
       "      <td>0</td>\n",
       "    </tr>\n",
       "    <tr>\n",
       "      <th>4</th>\n",
       "      <td>28-03-2020</td>\n",
       "      <td>15</td>\n",
       "      <td>22</td>\n",
       "      <td>189</td>\n",
       "      <td>343</td>\n",
       "      <td>262</td>\n",
       "      <td>153</td>\n",
       "      <td>219</td>\n",
       "      <td>14</td>\n",
       "      <td>24</td>\n",
       "      <td>139</td>\n",
       "      <td>22</td>\n",
       "      <td>21</td>\n",
       "      <td>38</td>\n",
       "      <td>13</td>\n",
       "      <td>26</td>\n",
       "      <td>4</td>\n",
       "      <td>9</td>\n",
       "      <td>0</td>\n",
       "    </tr>\n",
       "    <tr>\n",
       "      <th>...</th>\n",
       "      <td>...</td>\n",
       "      <td>...</td>\n",
       "      <td>...</td>\n",
       "      <td>...</td>\n",
       "      <td>...</td>\n",
       "      <td>...</td>\n",
       "      <td>...</td>\n",
       "      <td>...</td>\n",
       "      <td>...</td>\n",
       "      <td>...</td>\n",
       "      <td>...</td>\n",
       "      <td>...</td>\n",
       "      <td>...</td>\n",
       "      <td>...</td>\n",
       "      <td>...</td>\n",
       "      <td>...</td>\n",
       "      <td>...</td>\n",
       "      <td>...</td>\n",
       "      <td>...</td>\n",
       "    </tr>\n",
       "    <tr>\n",
       "      <th>117</th>\n",
       "      <td>28-09-2020</td>\n",
       "      <td>585</td>\n",
       "      <td>895</td>\n",
       "      <td>1538</td>\n",
       "      <td>1802</td>\n",
       "      <td>2275</td>\n",
       "      <td>1240</td>\n",
       "      <td>1115</td>\n",
       "      <td>219</td>\n",
       "      <td>500</td>\n",
       "      <td>859</td>\n",
       "      <td>544</td>\n",
       "      <td>557</td>\n",
       "      <td>537</td>\n",
       "      <td>366</td>\n",
       "      <td>564</td>\n",
       "      <td>145</td>\n",
       "      <td>184</td>\n",
       "      <td>133</td>\n",
       "    </tr>\n",
       "    <tr>\n",
       "      <th>118</th>\n",
       "      <td>05-10-2020</td>\n",
       "      <td>607</td>\n",
       "      <td>930</td>\n",
       "      <td>1570</td>\n",
       "      <td>1957</td>\n",
       "      <td>2421</td>\n",
       "      <td>1289</td>\n",
       "      <td>1167</td>\n",
       "      <td>222</td>\n",
       "      <td>513</td>\n",
       "      <td>908</td>\n",
       "      <td>614</td>\n",
       "      <td>585</td>\n",
       "      <td>601</td>\n",
       "      <td>368</td>\n",
       "      <td>596</td>\n",
       "      <td>153</td>\n",
       "      <td>189</td>\n",
       "      <td>139</td>\n",
       "    </tr>\n",
       "    <tr>\n",
       "      <th>119</th>\n",
       "      <td>12-10-2020</td>\n",
       "      <td>656</td>\n",
       "      <td>982</td>\n",
       "      <td>1681</td>\n",
       "      <td>2320</td>\n",
       "      <td>2589</td>\n",
       "      <td>1370</td>\n",
       "      <td>1237</td>\n",
       "      <td>231</td>\n",
       "      <td>551</td>\n",
       "      <td>986</td>\n",
       "      <td>738</td>\n",
       "      <td>650</td>\n",
       "      <td>660</td>\n",
       "      <td>390</td>\n",
       "      <td>634</td>\n",
       "      <td>179</td>\n",
       "      <td>230</td>\n",
       "      <td>142</td>\n",
       "    </tr>\n",
       "    <tr>\n",
       "      <th>120</th>\n",
       "      <td>19-10-2020</td>\n",
       "      <td>705</td>\n",
       "      <td>1054</td>\n",
       "      <td>1929</td>\n",
       "      <td>2884</td>\n",
       "      <td>2888</td>\n",
       "      <td>1523</td>\n",
       "      <td>1418</td>\n",
       "      <td>268</td>\n",
       "      <td>662</td>\n",
       "      <td>1160</td>\n",
       "      <td>1303</td>\n",
       "      <td>890</td>\n",
       "      <td>919</td>\n",
       "      <td>566</td>\n",
       "      <td>788</td>\n",
       "      <td>282</td>\n",
       "      <td>351</td>\n",
       "      <td>148</td>\n",
       "    </tr>\n",
       "    <tr>\n",
       "      <th>121</th>\n",
       "      <td>26-10-2020</td>\n",
       "      <td>778</td>\n",
       "      <td>1190</td>\n",
       "      <td>2426</td>\n",
       "      <td>3508</td>\n",
       "      <td>3246</td>\n",
       "      <td>1740</td>\n",
       "      <td>1648</td>\n",
       "      <td>312</td>\n",
       "      <td>822</td>\n",
       "      <td>1352</td>\n",
       "      <td>1845</td>\n",
       "      <td>1032</td>\n",
       "      <td>1253</td>\n",
       "      <td>681</td>\n",
       "      <td>978</td>\n",
       "      <td>358</td>\n",
       "      <td>485</td>\n",
       "      <td>161</td>\n",
       "    </tr>\n",
       "  </tbody>\n",
       "</table>\n",
       "<p>122 rows × 19 columns</p>\n",
       "</div>"
      ],
      "text/plain": [
       "           data PÓVOA DE VARZIM VILA DO CONDE MATOSINHOS PORTO  \\\n",
       "0    24-03-2020               0             8         54   126   \n",
       "1    25-03-2020               0             8         56   137   \n",
       "2    26-03-2020              13            12         81   259   \n",
       "3    27-03-2020              15            15        107   317   \n",
       "4    28-03-2020              15            22        189   343   \n",
       "..          ...             ...           ...        ...   ...   \n",
       "117  28-09-2020             585           895       1538  1802   \n",
       "118  05-10-2020             607           930       1570  1957   \n",
       "119  12-10-2020             656           982       1681  2320   \n",
       "120  19-10-2020             705          1054       1929  2884   \n",
       "121  26-10-2020             778          1190       2426  3508   \n",
       "\n",
       "    VILA NOVA DE GAIA GONDOMAR  MAIA TROFA SANTO TIRSO VALONGO  \\\n",
       "0                  68       56   104     0           7      65   \n",
       "1                  83       62   119     0           8      71   \n",
       "2                 163      114   157     8          13     100   \n",
       "3                 262      149   171     8          20     108   \n",
       "4                 262      153   219    14          24     139   \n",
       "..                ...      ...   ...   ...         ...     ...   \n",
       "117              2275     1240  1115   219         500     859   \n",
       "118              2421     1289  1167   222         513     908   \n",
       "119              2589     1370  1237   231         551     986   \n",
       "120              2888     1523  1418   268         662    1160   \n",
       "121              3246     1740  1648   312         822    1352   \n",
       "\n",
       "    PAÇOS DE FERREIRA PAREDES LOUSADA PENAFIEL FELGUEIRAS AMARANTE  \\\n",
       "0                   5       7      29        6         17        0   \n",
       "1                  10       8      27        7         17        0   \n",
       "2                  19      16      33       11         24        0   \n",
       "3                  22      18      38       11         26        3   \n",
       "4                  22      21      38       13         26        4   \n",
       "..                ...     ...     ...      ...        ...      ...   \n",
       "117               544     557     537      366        564      145   \n",
       "118               614     585     601      368        596      153   \n",
       "119               738     650     660      390        634      179   \n",
       "120              1303     890     919      566        788      282   \n",
       "121              1845    1032    1253      681        978      358   \n",
       "\n",
       "    MARCO DE CANAVESES BAIÃO  \n",
       "0                    3     0  \n",
       "1                    4     0  \n",
       "2                    0     0  \n",
       "3                    0     0  \n",
       "4                    9     0  \n",
       "..                 ...   ...  \n",
       "117                184   133  \n",
       "118                189   139  \n",
       "119                230   142  \n",
       "120                351   148  \n",
       "121                485   161  \n",
       "\n",
       "[122 rows x 19 columns]"
      ]
     },
     "execution_count": 73,
     "metadata": {},
     "output_type": "execute_result"
    }
   ],
   "source": [
    "df1.head(273)"
   ]
  },
  {
   "cell_type": "code",
   "execution_count": 13,
   "metadata": {},
   "outputs": [],
   "source": [
    "df2 = df.drop(['data'], axis=1)"
   ]
  },
  {
   "cell_type": "markdown",
   "metadata": {},
   "source": [
    "# Stats"
   ]
  },
  {
   "cell_type": "code",
   "execution_count": 14,
   "metadata": {},
   "outputs": [],
   "source": [
    "lethality_rt = ((df.loc[273, cols[3]])/(df.loc[273, cols[1]]))*100"
   ]
  },
  {
   "cell_type": "code",
   "execution_count": 15,
   "metadata": {},
   "outputs": [],
   "source": [
    "lethality_rt = round(lethality_rt,2)"
   ]
  },
  {
   "cell_type": "code",
   "execution_count": 16,
   "metadata": {},
   "outputs": [],
   "source": [
    "lt_rt = str(lethality_rt)"
   ]
  },
  {
   "cell_type": "code",
   "execution_count": 17,
   "metadata": {},
   "outputs": [
    {
     "name": "stdout",
     "output_type": "stream",
     "text": [
      "The lethality rate is 1.51 %\n"
     ]
    }
   ],
   "source": [
    "print(\"The lethality rate is \" + lt_rt + \" %\")"
   ]
  },
  {
   "cell_type": "code",
   "execution_count": 18,
   "metadata": {},
   "outputs": [],
   "source": [
    "recovery_rt = ((df.loc[273, cols[2]])/(df.loc[273, cols[1]]))*100"
   ]
  },
  {
   "cell_type": "code",
   "execution_count": 19,
   "metadata": {},
   "outputs": [],
   "source": [
    "recovery_rt = round(recovery_rt, 2) "
   ]
  },
  {
   "cell_type": "code",
   "execution_count": 20,
   "metadata": {},
   "outputs": [],
   "source": [
    "rc_rt = str(recovery_rt)"
   ]
  },
  {
   "cell_type": "code",
   "execution_count": 21,
   "metadata": {},
   "outputs": [
    {
     "name": "stdout",
     "output_type": "stream",
     "text": [
      "The recovery rate is 69.11 %\n"
     ]
    }
   ],
   "source": [
    "print(\"The recovery rate is \" + rc_rt + \" %\")"
   ]
  },
  {
   "cell_type": "code",
   "execution_count": 22,
   "metadata": {},
   "outputs": [],
   "source": [
    "df_stats = df[['confirmados','recuperados','obitos','suspeitos','ativos']]"
   ]
  },
  {
   "cell_type": "code",
   "execution_count": 23,
   "metadata": {},
   "outputs": [],
   "source": [
    "standardizer=StandardScaler()"
   ]
  },
  {
   "cell_type": "code",
   "execution_count": 24,
   "metadata": {},
   "outputs": [
    {
     "data": {
      "text/html": [
       "<div>\n",
       "<style scoped>\n",
       "    .dataframe tbody tr th:only-of-type {\n",
       "        vertical-align: middle;\n",
       "    }\n",
       "\n",
       "    .dataframe tbody tr th {\n",
       "        vertical-align: top;\n",
       "    }\n",
       "\n",
       "    .dataframe thead th {\n",
       "        text-align: right;\n",
       "    }\n",
       "</style>\n",
       "<table border=\"1\" class=\"dataframe\">\n",
       "  <thead>\n",
       "    <tr style=\"text-align: right;\">\n",
       "      <th></th>\n",
       "      <th>confirmados</th>\n",
       "      <th>recuperados</th>\n",
       "      <th>obitos</th>\n",
       "      <th>suspeitos</th>\n",
       "      <th>ativos</th>\n",
       "    </tr>\n",
       "  </thead>\n",
       "  <tbody>\n",
       "    <tr>\n",
       "      <th>0</th>\n",
       "      <td>0</td>\n",
       "      <td>0</td>\n",
       "      <td>0</td>\n",
       "      <td>25</td>\n",
       "      <td>0</td>\n",
       "    </tr>\n",
       "    <tr>\n",
       "      <th>1</th>\n",
       "      <td>0</td>\n",
       "      <td>0</td>\n",
       "      <td>0</td>\n",
       "      <td>51</td>\n",
       "      <td>0</td>\n",
       "    </tr>\n",
       "    <tr>\n",
       "      <th>2</th>\n",
       "      <td>0</td>\n",
       "      <td>0</td>\n",
       "      <td>0</td>\n",
       "      <td>59</td>\n",
       "      <td>0</td>\n",
       "    </tr>\n",
       "    <tr>\n",
       "      <th>3</th>\n",
       "      <td>0</td>\n",
       "      <td>0</td>\n",
       "      <td>0</td>\n",
       "      <td>70</td>\n",
       "      <td>0</td>\n",
       "    </tr>\n",
       "    <tr>\n",
       "      <th>4</th>\n",
       "      <td>0</td>\n",
       "      <td>0</td>\n",
       "      <td>0</td>\n",
       "      <td>85</td>\n",
       "      <td>0</td>\n",
       "    </tr>\n",
       "  </tbody>\n",
       "</table>\n",
       "</div>"
      ],
      "text/plain": [
       "  confirmados recuperados obitos suspeitos ativos\n",
       "0           0           0      0        25      0\n",
       "1           0           0      0        51      0\n",
       "2           0           0      0        59      0\n",
       "3           0           0      0        70      0\n",
       "4           0           0      0        85      0"
      ]
     },
     "execution_count": 24,
     "metadata": {},
     "output_type": "execute_result"
    }
   ],
   "source": [
    "df_stats.head()"
   ]
  },
  {
   "cell_type": "code",
   "execution_count": 25,
   "metadata": {},
   "outputs": [],
   "source": [
    "scaler=standardizer.fit(df_stats)"
   ]
  },
  {
   "cell_type": "code",
   "execution_count": 26,
   "metadata": {},
   "outputs": [],
   "source": [
    "df_stats_Stand=scaler.transform(df_stats)"
   ]
  },
  {
   "cell_type": "code",
   "execution_count": null,
   "metadata": {},
   "outputs": [],
   "source": []
  },
  {
   "cell_type": "markdown",
   "metadata": {},
   "source": [
    "# HeatMap"
   ]
  },
  {
   "cell_type": "code",
   "execution_count": 27,
   "metadata": {},
   "outputs": [],
   "source": [
    "XfeaturesArray=zip(df2['confirmados'], df2['recuperados'], df2['obitos'], df2['suspeitos'], df2['ativos'])\n",
    "Xfeatures=list(XfeaturesArray)\n",
    "Y=df2['confirmados']"
   ]
  },
  {
   "cell_type": "code",
   "execution_count": 28,
   "metadata": {},
   "outputs": [],
   "source": [
    "X=standardizer.fit_transform(Xfeatures)"
   ]
  },
  {
   "cell_type": "code",
   "execution_count": 29,
   "metadata": {},
   "outputs": [
    {
     "data": {
      "image/png": "[encoded data removed]",
      "text/plain": [
       "<Figure size 432x288 with 2 Axes>"
      ]
     },
     "metadata": {
      "needs_background": "light"
     },
     "output_type": "display_data"
    }
   ],
   "source": [
    "df2 = pd.DataFrame(X, columns=['confirmados','recuperados', 'obitos', 'suspeitos', 'ativos'])\n",
    "corrMatrix = df2.corr()\n",
    "sn.heatmap(corrMatrix, annot=True)\n",
    "plt.show()"
   ]
  },
  {
   "cell_type": "code",
   "execution_count": 30,
   "metadata": {},
   "outputs": [
    {
     "name": "stdout",
     "output_type": "stream",
     "text": [
      "Index(['data', 'confirmados', 'recuperados', 'obitos', 'suspeitos', 'ativos'], dtype='object') Index(['data', 'PÓVOA DE VARZIM', 'VILA DO CONDE', 'MATOSINHOS', 'PORTO',\n",
      "       'VILA NOVA DE GAIA', 'GONDOMAR', 'MAIA', 'TROFA', 'SANTO TIRSO',\n",
      "       'VALONGO', 'PAÇOS DE FERREIRA', 'PAREDES', 'LOUSADA', 'PENAFIEL',\n",
      "       'FELGUEIRAS', 'AMARANTE', 'MARCO DE CANAVESES', 'BAIÃO'],\n",
      "      dtype='object')\n"
     ]
    }
   ],
   "source": [
    "print(cols,cols1)"
   ]
  },
  {
   "cell_type": "code",
   "execution_count": 31,
   "metadata": {},
   "outputs": [],
   "source": [
    "confirmed = df.loc[:, cols[1]]\n",
    "deaths = df.loc[:, cols[3]]\n",
    "recoveries = df.loc[:, cols[2]]"
   ]
  },
  {
   "cell_type": "code",
   "execution_count": 32,
   "metadata": {},
   "outputs": [
    {
     "data": {
      "text/plain": [
       "Index(['data', 'PÓVOA DE VARZIM', 'VILA DO CONDE', 'MATOSINHOS', 'PORTO',\n",
       "       'VILA NOVA DE GAIA', 'GONDOMAR', 'MAIA', 'TROFA', 'SANTO TIRSO',\n",
       "       'VALONGO', 'PAÇOS DE FERREIRA', 'PAREDES', 'LOUSADA', 'PENAFIEL',\n",
       "       'FELGUEIRAS', 'AMARANTE', 'MARCO DE CANAVESES', 'BAIÃO'],\n",
       "      dtype='object')"
      ]
     },
     "execution_count": 32,
     "metadata": {},
     "output_type": "execute_result"
    }
   ],
   "source": [
    "cols1"
   ]
  },
  {
   "cell_type": "markdown",
   "metadata": {},
   "source": [
    "# PieChart dos casos confirmados nos concelhos do Porto"
   ]
  },
  {
   "cell_type": "code",
   "execution_count": 33,
   "metadata": {},
   "outputs": [],
   "source": [
    "Z = df1.loc[121,cols1[1]:cols1[-1]]"
   ]
  },
  {
   "cell_type": "code",
   "execution_count": 34,
   "metadata": {},
   "outputs": [],
   "source": [
    "casos_Porto = Z.sum()"
   ]
  },
  {
   "cell_type": "code",
   "execution_count": 35,
   "metadata": {
    "scrolled": true
   },
   "outputs": [
    {
     "data": {
      "text/plain": [
       "23815.0"
      ]
     },
     "execution_count": 35,
     "metadata": {},
     "output_type": "execute_result"
    }
   ],
   "source": [
    "casos_Porto"
   ]
  },
  {
   "cell_type": "code",
   "execution_count": 36,
   "metadata": {},
   "outputs": [],
   "source": [
    "percent_list=[]"
   ]
  },
  {
   "cell_type": "code",
   "execution_count": 37,
   "metadata": {
    "scrolled": true
   },
   "outputs": [],
   "source": [
    "for row in Z:\n",
    "#    s = print((row*100)/casos_Porto)\n",
    "    percent_list.append((row*100)/casos_Porto)"
   ]
  },
  {
   "cell_type": "code",
   "execution_count": 38,
   "metadata": {
    "scrolled": true
   },
   "outputs": [
    {
     "name": "stdout",
     "output_type": "stream",
     "text": [
      "[3.2668486248162925, 4.996850724333403, 10.186857022884736, 14.730212051228218, 13.630065085030443, 7.306319546504304, 6.920008398068444, 1.31009867730422, 3.451606130589964, 5.677094268318287, 7.747218139827839, 4.333403317237035, 5.261389880327525, 2.859542305269788, 4.1066554692420745, 1.5032542515221499, 2.0365315977325213, 0.6760445097627545]\n"
     ]
    }
   ],
   "source": [
    "print(percent_list)"
   ]
  },
  {
   "cell_type": "code",
   "execution_count": 39,
   "metadata": {},
   "outputs": [],
   "source": [
    "percent_list = [3.2668486248162925, 4.996850724333403, 10.186857022884736, 14.730212051228218, 13.630065085030443, 7.306319546504304, 6.920008398068444, 1.31009867730422, 3.451606130589964, 5.677094268318287, 7.747218139827839, 4.333403317237035, 5.261389880327525, 2.859542305269788, 4.1066554692420745, 1.5032542515221499, 2.0365315977325213, 0.6760445097627545]\n",
    "\n",
    "rounded_perc = [round(num, 1) for num in percent_list]"
   ]
  },
  {
   "cell_type": "code",
   "execution_count": 40,
   "metadata": {},
   "outputs": [],
   "source": [
    "def pie_chart():\n",
    "    plt.pie(percent_list, labels=['PÓVOA DE VARZIM', 'VILA DO CONDE', 'MATOSINHOS', 'PORTO',\n",
    "       'VILA NOVA DE GAIA', 'GONDOMAR', 'MAIA', 'TROFA', 'SANTO TIRSO',\n",
    "       'VALONGO', 'PAÇOS DE FERREIRA', 'PAREDES', 'LOUSADA', 'PENAFIEL',\n",
    "       'FELGUEIRAS', 'AMARANTE', 'MARCO DE CANAVESES', 'BAIÃO'], autopct='%1.0f%%', pctdistance=1.1, labeldistance=1.2, radius=3.2)"
   ]
  },
  {
   "cell_type": "code",
   "execution_count": 41,
   "metadata": {},
   "outputs": [
    {
     "data": {
      "image/png": "[encoded data removed]",
      "text/plain": [
       "<Figure size 432x288 with 1 Axes>"
      ]
     },
     "metadata": {},
     "output_type": "display_data"
    }
   ],
   "source": [
    "pie_chart()"
   ]
  },
  {
   "cell_type": "markdown",
   "metadata": {},
   "source": [
    "# Regressão Linear"
   ]
  },
  {
   "cell_type": "code",
   "execution_count": 42,
   "metadata": {},
   "outputs": [],
   "source": [
    "confirmed = df.loc[:, cols[1]]\n",
    "deaths = df.loc[:, cols[3]]"
   ]
  },
  {
   "cell_type": "code",
   "execution_count": 43,
   "metadata": {},
   "outputs": [
    {
     "data": {
      "text/plain": [
       "(286,)"
      ]
     },
     "execution_count": 43,
     "metadata": {},
     "output_type": "execute_result"
    }
   ],
   "source": [
    "confirmed.shape"
   ]
  },
  {
   "cell_type": "code",
   "execution_count": null,
   "metadata": {},
   "outputs": [],
   "source": []
  },
  {
   "cell_type": "code",
   "execution_count": 44,
   "metadata": {},
   "outputs": [
    {
     "data": {
      "text/plain": [
       "(286,)"
      ]
     },
     "execution_count": 44,
     "metadata": {},
     "output_type": "execute_result"
    }
   ],
   "source": [
    "deaths.shape"
   ]
  },
  {
   "cell_type": "code",
   "execution_count": 45,
   "metadata": {},
   "outputs": [],
   "source": [
    "jh=np.array(df['ativos'])\n",
    "hj =np.array(df['confirmados'])"
   ]
  },
  {
   "cell_type": "code",
   "execution_count": 46,
   "metadata": {},
   "outputs": [
    {
     "ename": "SyntaxError",
     "evalue": "invalid syntax (<ipython-input-46-b45dfca09c43>, line 1)",
     "output_type": "error",
     "traceback": [
      "\u001b[0;36m  File \u001b[0;32m\"<ipython-input-46-b45dfca09c43>\"\u001b[0;36m, line \u001b[0;32m1\u001b[0m\n\u001b[0;31m    Comparar confirmados com obitos\u001b[0m\n\u001b[0m             ^\u001b[0m\n\u001b[0;31mSyntaxError\u001b[0m\u001b[0;31m:\u001b[0m invalid syntax\n"
     ]
    }
   ],
   "source": [
    "Comparar confirmados com obitos"
   ]
  },
  {
   "cell_type": "code",
   "execution_count": 47,
   "metadata": {},
   "outputs": [],
   "source": [
    "X = np.vstack((jh, hj)).T"
   ]
  },
  {
   "cell_type": "code",
   "execution_count": 48,
   "metadata": {},
   "outputs": [],
   "source": [
    "jk = np.array(df['obitos'])\n",
    "kj = np. array(df['recuperados'])"
   ]
  },
  {
   "cell_type": "code",
   "execution_count": 49,
   "metadata": {},
   "outputs": [],
   "source": [
    "y = np.vstack((jk, kj)).T"
   ]
  },
  {
   "cell_type": "code",
   "execution_count": 50,
   "metadata": {},
   "outputs": [
    {
     "data": {
      "text/plain": [
       "2"
      ]
     },
     "execution_count": 50,
     "metadata": {},
     "output_type": "execute_result"
    }
   ],
   "source": [
    "X.ndim"
   ]
  },
  {
   "cell_type": "code",
   "execution_count": 51,
   "metadata": {},
   "outputs": [
    {
     "data": {
      "text/plain": [
       "2"
      ]
     },
     "execution_count": 51,
     "metadata": {},
     "output_type": "execute_result"
    }
   ],
   "source": [
    "y.ndim"
   ]
  },
  {
   "cell_type": "code",
   "execution_count": 52,
   "metadata": {},
   "outputs": [
    {
     "data": {
      "text/plain": [
       "array([ 756.90913037, -756.6949499 ])"
      ]
     },
     "execution_count": 52,
     "metadata": {},
     "output_type": "execute_result"
    }
   ],
   "source": [
    "lnr=LinearRegression()\n",
    "lnr.fit(X,y)\n",
    "lnr.intercept_"
   ]
  },
  {
   "cell_type": "code",
   "execution_count": 53,
   "metadata": {},
   "outputs": [
    {
     "data": {
      "text/plain": [
       "array([[-0.00987277,  0.01640735],\n",
       "       [-0.99014072,  0.98359227]])"
      ]
     },
     "execution_count": 53,
     "metadata": {},
     "output_type": "execute_result"
    }
   ],
   "source": [
    "lnr.coef_"
   ]
  },
  {
   "cell_type": "code",
   "execution_count": 54,
   "metadata": {},
   "outputs": [
    {
     "data": {
      "text/plain": [
       "0.9453605323019525"
      ]
     },
     "execution_count": 54,
     "metadata": {},
     "output_type": "execute_result"
    }
   ],
   "source": [
    "lnr.score(X, y)"
   ]
  },
  {
   "cell_type": "code",
   "execution_count": 55,
   "metadata": {},
   "outputs": [],
   "source": [
    "X_Test=X.copy()"
   ]
  },
  {
   "cell_type": "code",
   "execution_count": 56,
   "metadata": {},
   "outputs": [],
   "source": [
    "y_Test = y.copy()"
   ]
  },
  {
   "cell_type": "code",
   "execution_count": 57,
   "metadata": {
    "scrolled": true
   },
   "outputs": [
    {
     "data": {
      "text/plain": [
       "array([ 756.90913037, -756.6949499 ])"
      ]
     },
     "execution_count": 57,
     "metadata": {},
     "output_type": "execute_result"
    }
   ],
   "source": [
    "test=LinearRegression()\n",
    "test.fit(X,y)\n",
    "test.intercept_"
   ]
  },
  {
   "cell_type": "code",
   "execution_count": 58,
   "metadata": {},
   "outputs": [],
   "source": [
    "test_pred = test.predict(X_Test)"
   ]
  },
  {
   "cell_type": "code",
   "execution_count": 59,
   "metadata": {},
   "outputs": [
    {
     "name": "stdout",
     "output_type": "stream",
     "text": [
      "Coefficients: \n",
      " [[-0.00987277  0.01640735]\n",
      " [-0.99014072  0.98359227]]\n"
     ]
    }
   ],
   "source": [
    "print('Coefficients: \\n', test.coef_)"
   ]
  },
  {
   "cell_type": "code",
   "execution_count": 60,
   "metadata": {},
   "outputs": [
    {
     "name": "stdout",
     "output_type": "stream",
     "text": [
      "Mean squared error: 124094.39\n"
     ]
    }
   ],
   "source": [
    "print('Mean squared error: %.2f'\n",
    "      % mean_squared_error(y_Test, test_pred))"
   ]
  },
  {
   "cell_type": "code",
   "execution_count": 61,
   "metadata": {},
   "outputs": [
    {
     "name": "stdout",
     "output_type": "stream",
     "text": [
      "Coefficient of determination: 0.95\n"
     ]
    }
   ],
   "source": [
    "print('Coefficient of determination: %.2f'\n",
    "      % r2_score(y_Test, test_pred))"
   ]
  },
  {
   "cell_type": "code",
   "execution_count": 62,
   "metadata": {},
   "outputs": [
    {
     "data": {
      "image/png": "[encoded data removed]",
      "text/plain": [
       "<Figure size 432x288 with 1 Axes>"
      ]
     },
     "metadata": {},
     "output_type": "display_data"
    }
   ],
   "source": [
    "plt.scatter(X_Test, y_Test,  color='black')\n",
    "plt.plot(X_Test, y_Test, color='blue', linewidth=3)\n",
    "\n",
    "plt.xticks(())\n",
    "plt.yticks(())\n",
    "\n",
    "plt.show()"
   ]
  },
  {
   "cell_type": "markdown",
   "metadata": {},
   "source": [
    "# Clusters"
   ]
  },
  {
   "cell_type": "code",
   "execution_count": 63,
   "metadata": {},
   "outputs": [],
   "source": [
    "df3 = df[['recuperados','obitos']]"
   ]
  },
  {
   "cell_type": "code",
   "execution_count": 64,
   "metadata": {},
   "outputs": [
    {
     "data": {
      "text/html": [
       "<div>\n",
       "<style scoped>\n",
       "    .dataframe tbody tr th:only-of-type {\n",
       "        vertical-align: middle;\n",
       "    }\n",
       "\n",
       "    .dataframe tbody tr th {\n",
       "        vertical-align: top;\n",
       "    }\n",
       "\n",
       "    .dataframe thead th {\n",
       "        text-align: right;\n",
       "    }\n",
       "</style>\n",
       "<table border=\"1\" class=\"dataframe\">\n",
       "  <thead>\n",
       "    <tr style=\"text-align: right;\">\n",
       "      <th></th>\n",
       "      <th>recuperados</th>\n",
       "      <th>obitos</th>\n",
       "    </tr>\n",
       "  </thead>\n",
       "  <tbody>\n",
       "    <tr>\n",
       "      <th>0</th>\n",
       "      <td>0</td>\n",
       "      <td>0</td>\n",
       "    </tr>\n",
       "    <tr>\n",
       "      <th>1</th>\n",
       "      <td>0</td>\n",
       "      <td>0</td>\n",
       "    </tr>\n",
       "    <tr>\n",
       "      <th>2</th>\n",
       "      <td>0</td>\n",
       "      <td>0</td>\n",
       "    </tr>\n",
       "    <tr>\n",
       "      <th>3</th>\n",
       "      <td>0</td>\n",
       "      <td>0</td>\n",
       "    </tr>\n",
       "    <tr>\n",
       "      <th>4</th>\n",
       "      <td>0</td>\n",
       "      <td>0</td>\n",
       "    </tr>\n",
       "    <tr>\n",
       "      <th>...</th>\n",
       "      <td>...</td>\n",
       "      <td>...</td>\n",
       "    </tr>\n",
       "    <tr>\n",
       "      <th>281</th>\n",
       "      <td>229018</td>\n",
       "      <td>4724</td>\n",
       "    </tr>\n",
       "    <tr>\n",
       "      <th>282</th>\n",
       "      <td>234038</td>\n",
       "      <td>4803</td>\n",
       "    </tr>\n",
       "    <tr>\n",
       "      <th>283</th>\n",
       "      <td>240203</td>\n",
       "      <td>4876</td>\n",
       "    </tr>\n",
       "    <tr>\n",
       "      <th>284</th>\n",
       "      <td>243055</td>\n",
       "      <td>4963</td>\n",
       "    </tr>\n",
       "    <tr>\n",
       "      <th>285</th>\n",
       "      <td>245843</td>\n",
       "      <td>5041</td>\n",
       "    </tr>\n",
       "  </tbody>\n",
       "</table>\n",
       "<p>286 rows × 2 columns</p>\n",
       "</div>"
      ],
      "text/plain": [
       "    recuperados obitos\n",
       "0             0      0\n",
       "1             0      0\n",
       "2             0      0\n",
       "3             0      0\n",
       "4             0      0\n",
       "..          ...    ...\n",
       "281      229018   4724\n",
       "282      234038   4803\n",
       "283      240203   4876\n",
       "284      243055   4963\n",
       "285      245843   5041\n",
       "\n",
       "[286 rows x 2 columns]"
      ]
     },
     "execution_count": 64,
     "metadata": {},
     "output_type": "execute_result"
    }
   ],
   "source": [
    "df3"
   ]
  },
  {
   "cell_type": "code",
   "execution_count": 65,
   "metadata": {},
   "outputs": [
    {
     "data": {
      "text/plain": [
       "data           object\n",
       "confirmados    object\n",
       "recuperados    object\n",
       "obitos         object\n",
       "suspeitos      object\n",
       "ativos         object\n",
       "dtype: object"
      ]
     },
     "execution_count": 65,
     "metadata": {},
     "output_type": "execute_result"
    }
   ],
   "source": [
    "df.dtypes"
   ]
  },
  {
   "cell_type": "code",
   "execution_count": 83,
   "metadata": {},
   "outputs": [],
   "source": [
    "df1.loc[:,'PORTO']=pd.to_numeric(df1.loc[:,'PORTO'])\n",
    "df1.loc[:,'VILA NOVA DE GAIA']=pd.to_numeric(df1.loc[:,'VILA NOVA DE GAIA'])"
   ]
  },
  {
   "cell_type": "code",
   "execution_count": 84,
   "metadata": {},
   "outputs": [
    {
     "data": {
      "text/plain": [
       "data                  object\n",
       "PÓVOA DE VARZIM       object\n",
       "VILA DO CONDE         object\n",
       "MATOSINHOS            object\n",
       "PORTO                  int64\n",
       "VILA NOVA DE GAIA      int64\n",
       "GONDOMAR              object\n",
       "MAIA                  object\n",
       "TROFA                 object\n",
       "SANTO TIRSO           object\n",
       "VALONGO               object\n",
       "PAÇOS DE FERREIRA     object\n",
       "PAREDES               object\n",
       "LOUSADA               object\n",
       "PENAFIEL              object\n",
       "FELGUEIRAS            object\n",
       "AMARANTE              object\n",
       "MARCO DE CANAVESES    object\n",
       "BAIÃO                 object\n",
       "dtype: object"
      ]
     },
     "execution_count": 84,
     "metadata": {},
     "output_type": "execute_result"
    }
   ],
   "source": [
    "df1.dtypes"
   ]
  },
  {
   "cell_type": "code",
   "execution_count": 85,
   "metadata": {},
   "outputs": [
    {
     "data": {
      "text/plain": [
       "Text(0, 0.5, ' ')"
      ]
     },
     "execution_count": 85,
     "metadata": {},
     "output_type": "execute_result"
    },
    {
     "data": {
      "image/png": "[encoded data removed]",
      "text/plain": [
       "<Figure size 432x288 with 1 Axes>"
      ]
     },
     "metadata": {
      "needs_background": "light"
     },
     "output_type": "display_data"
    }
   ],
   "source": [
    "plt.scatter(df1['PORTO'], df1['VILA NOVA DE GAIA'])\n",
    "plt.title('Cluster')\n",
    "plt.xlabel(' ')\n",
    "plt.ylabel(' ')"
   ]
  },
  {
   "cell_type": "code",
   "execution_count": 123,
   "metadata": {},
   "outputs": [
    {
     "data": {
      "image/png": "[encoded data removed]",
      "text/plain": [
       "<Figure size 432x288 with 1 Axes>"
      ]
     },
     "metadata": {
      "needs_background": "light"
     },
     "output_type": "display_data"
    }
   ],
   "source": [
    "model1 = KMeans(n_clusters=3, init='k-means++', max_iter=10, n_init=5)\n",
    "model1.fit_predict(df3)\n",
    "plt.scatter(df1['PÓVOA DE VARZIM'],df1['VILA DO CONDE'])\n",
    "plt.scatter(model1.cluster_centers_[:, 1], model1.cluster_centers_[:, 1], s=200, c='RED')\n",
    "plt.show()"
   ]
  },
  {
   "cell_type": "code",
   "execution_count": 90,
   "metadata": {},
   "outputs": [
    {
     "data": {
      "image/png": "[encoded data removed]",
      "text/plain": [
       "<Figure size 432x288 with 1 Axes>"
      ]
     },
     "metadata": {
      "needs_background": "light"
     },
     "output_type": "display_data"
    }
   ],
   "source": [
    "model1 = KMeans(n_clusters=10, init='k-means++', max_iter=10, n_init=1)\n",
    "model1.fit_predict(df3)\n",
    "plt.scatter(df1['PÓVOA DE VARZIM'],df1['VILA DO CONDE'])\n",
    "plt.show()"
   ]
  },
  {
   "cell_type": "code",
   "execution_count": 67,
   "metadata": {},
   "outputs": [
    {
     "name": "stdout",
     "output_type": "stream",
     "text": [
      "Variable               Type              Data/Info\n",
      "--------------------------------------------------\n",
      "KMeans                 type              <class 'sklearn.cluster._kmeans.KMeans'>\n",
      "KNeighborsClassifier   ABCMeta           <class 'sklearn.neighbors<...>on.KNeighborsClassifier'>\n",
      "LinearRegression       ABCMeta           <class 'sklearn.linear_mo<...>._base.LinearRegression'>\n",
      "SimpleImputer          type              <class 'sklearn.impute._base.SimpleImputer'>\n",
      "StandardScaler         type              <class 'sklearn.preproces<...>ng._data.StandardScaler'>\n",
      "X                      ndarray           281x2: 562 elems, type `object`, 4496 bytes\n",
      "Xfeatures              list              n=281\n",
      "XfeaturesArray         zip               <zip object at 0x7fcccfeaf0c0>\n",
      "Y                      Series            0           0\\n1         <...>ength: 281, dtype: object\n",
      "Z                      Series            PÓVOA DE VARZIM        77<...>nName: 121, dtype: object\n",
      "casos_Porto            float             23815.0\n",
      "cols                   Index             Index(['data', 'confirmad<...>ativos'], dtype='object')\n",
      "cols1                  Index             Index(['data', 'PÓVOA DE <...>],\\n      dtype='object')\n",
      "confirmed              Series            0           0\\n1         <...>ength: 281, dtype: object\n",
      "corrMatrix             DataFrame                      confirmados <...>5826  -0.356779  1.000000\n",
      "datasets               module            <module 'sklearn.datasets<...>rn/datasets/__init__.py'>\n",
      "deaths                 Series            0         0\\n1         0\\<...>ength: 281, dtype: object\n",
      "df                     DataFrame                    data confirmad<...>n\\n[281 rows x 6 columns]\n",
      "df1                    DataFrame                    data PÓVOA DE <...>\\n[122 rows x 19 columns]\n",
      "df2                    DataFrame              confirmados  recuper<...>n\\n[281 rows x 5 columns]\n",
      "df3                    DataFrame             recuperados obitos\\n0<...>n\\n[281 rows x 2 columns]\n",
      "df_stats               DataFrame             confirmados recuperad<...>n\\n[281 rows x 5 columns]\n",
      "df_stats_Stand         ndarray           281x5: 1405 elems, type `float64`, 11240 bytes\n",
      "hj                     ndarray           281: 281 elems, type `object`, 2248 bytes\n",
      "i                      int               10\n",
      "jh                     ndarray           281: 281 elems, type `object`, 2248 bytes\n",
      "jk                     ndarray           281: 281 elems, type `object`, 2248 bytes\n",
      "kj                     ndarray           281: 281 elems, type `object`, 2248 bytes\n",
      "lethality_rt           float             1.51\n",
      "linear_model           module            <module 'sklearn.linear_m<...>inear_model/__init__.py'>\n",
      "lt_rt                  str               1.51\n",
      "math                   module            <module 'math' from '/Use<...>th.cpython-38-darwin.so'>\n",
      "mcolors                module            <module 'matplotlib.color<...>es/matplotlib/colors.py'>\n",
      "mean_squared_error     function          <function mean_squared_error at 0x7fcccf56bf70>\n",
      "metrics                module            <module 'sklearn.metrics'<...>arn/metrics/__init__.py'>\n",
      "model                  KMeans            KMeans(n_clusters=10, random_state=0)\n",
      "model1                 KMeans            KMeans(max_iter=400, n_cl<...>usters=3, random_state=0)\n",
      "np                     module            <module 'numpy' from '/Us<...>kages/numpy/__init__.py'>\n",
      "pd                     module            <module 'pandas' from '/U<...>ages/pandas/__init__.py'>\n",
      "percent_list           list              n=18\n",
      "pie_chart              function          <function pie_chart at 0x7fcccb393040>\n",
      "plt                    module            <module 'matplotlib.pyplo<...>es/matplotlib/pyplot.py'>\n",
      "r2_score               function          <function r2_score at 0x7fcccf576430>\n",
      "rc_rt                  str               69.11\n",
      "recoveries             Series            0           0\\n1         <...>ength: 281, dtype: object\n",
      "recovery_rt            float             69.11\n",
      "rounded_perc           list              n=18\n",
      "row                    float             161.0\n",
      "scaler                 StandardScaler    StandardScaler()\n",
      "sn                     module            <module 'seaborn' from '/<...>ges/seaborn/__init__.py'>\n",
      "standardizer           StandardScaler    StandardScaler()\n",
      "time                   module            <module 'time' (built-in)>\n",
      "train_test_split       function          <function train_test_split at 0x7fcccf734160>\n",
      "wcss                   list              n=10\n",
      "y                      ndarray           281x2: 562 elems, type `object`, 4496 bytes\n"
     ]
    }
   ],
   "source": [
    "%whos"
   ]
  }
 ],
 "metadata": {
  "kernelspec": {
   "display_name": "Python 3",
   "language": "python",
   "name": "python3"
  },
  "language_info": {
   "codemirror_mode": {
    "name": "ipython",
    "version": 3
   },
   "file_extension": ".py",
   "mimetype": "text/x-python",
   "name": "python",
   "nbconvert_exporter": "python",
   "pygments_lexer": "ipython3",
   "version": "3.8.3"
  }
 },
 "nbformat": 4,
 "nbformat_minor": 4
}
